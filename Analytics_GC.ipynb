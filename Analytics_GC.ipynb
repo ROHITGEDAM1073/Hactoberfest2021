{
  "nbformat": 4,
  "nbformat_minor": 0,
  "metadata": {
    "colab": {
      "name": "Analytics GC.ipynb",
      "provenance": [],
      "include_colab_link": true
    },
    "kernelspec": {
      "name": "python3",
      "display_name": "Python 3"
    },
    "language_info": {
      "name": "python"
    }
  },
  "cells": [
    {
      "cell_type": "markdown",
      "metadata": {
        "id": "view-in-github",
        "colab_type": "text"
      },
      "source": [
        "<a href=\"https://colab.research.google.com/github/ROHITGEDAM1073/Hactoberfest2021/blob/main/Analytics_GC.ipynb\" target=\"_parent\"><img src=\"https://colab.research.google.com/assets/colab-badge.svg\" alt=\"Open In Colab\"/></a>"
      ]
    },
    {
      "cell_type": "code",
      "execution_count": null,
      "metadata": {
        "id": "51TPLiw6tbTU"
      },
      "outputs": [],
      "source": [
        "import pandas as pd\n",
        "import numpy as np\n",
        "from google.colab import files"
      ]
    },
    {
      "cell_type": "code",
      "source": [
        "df1 = files.upload()"
      ],
      "metadata": {
        "id": "_Fr45RF94AoD"
      },
      "execution_count": null,
      "outputs": []
    },
    {
      "cell_type": "code",
      "source": [
        "df1 = pd.read_csv(\"Copy of Extract.xlsx - Sheet1.csv\")"
      ],
      "metadata": {
        "id": "m5nyfVd95DrW"
      },
      "execution_count": null,
      "outputs": []
    },
    {
      "cell_type": "code",
      "source": [
        "df2 = files.upload()"
      ],
      "metadata": {
        "colab": {
          "resources": {
            "http://localhost:8080/nbextensions/google.colab/files.js": {
              "data": "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",
              "ok": true,
              "headers": [
                [
                  "content-type",
                  "application/javascript"
                ]
              ],
              "status": 200,
              "status_text": ""
            }
          },
          "base_uri": "https://localhost:8080/",
          "height": 74
        },
        "id": "psEyGhJ173f_",
        "outputId": "1208dc13-b72d-41be-bf6b-85545d0bc3d5"
      },
      "execution_count": null,
      "outputs": [
        {
          "output_type": "display_data",
          "data": {
            "text/html": [
              "\n",
              "     <input type=\"file\" id=\"files-8fb5ca39-326a-4f0e-a6bc-f1f42f325231\" name=\"files[]\" multiple disabled\n",
              "        style=\"border:none\" />\n",
              "     <output id=\"result-8fb5ca39-326a-4f0e-a6bc-f1f42f325231\">\n",
              "      Upload widget is only available when the cell has been executed in the\n",
              "      current browser session. Please rerun this cell to enable.\n",
              "      </output>\n",
              "      <script src=\"/nbextensions/google.colab/files.js\"></script> "
            ],
            "text/plain": [
              "<IPython.core.display.HTML object>"
            ]
          },
          "metadata": {}
        },
        {
          "output_type": "stream",
          "name": "stdout",
          "text": [
            "Saving Copy of test_data_Analytics GC.xlsx - Sheet1.csv to Copy of test_data_Analytics GC.xlsx - Sheet1.csv\n"
          ]
        }
      ]
    },
    {
      "cell_type": "code",
      "source": [
        "df2 = pd.read_csv(\"Copy of test_data_Analytics GC.xlsx - Sheet1.csv\")"
      ],
      "metadata": {
        "id": "jYuQ-JNI9slx"
      },
      "execution_count": null,
      "outputs": []
    },
    {
      "cell_type": "code",
      "source": [
        "X = df1.drop([\"y\", \"Count\"], axis = 1)\n",
        "Y = df1[\"y\"]"
      ],
      "metadata": {
        "id": "tZijz_M_JhTQ"
      },
      "execution_count": null,
      "outputs": []
    },
    {
      "cell_type": "code",
      "source": [
        "from sklearn.preprocessing import StandardScaler\n",
        "ss2= StandardScaler()\n",
        "X=pd.DataFrame(ss2.fit_transform(X),columns=X.columns)\n",
        "df2=pd.DataFrame(ss2.fit_transform(df2),columns=df2.columns)"
      ],
      "metadata": {
        "id": "RQAY_FkWXrh1"
      },
      "execution_count": null,
      "outputs": []
    },
    {
      "cell_type": "code",
      "source": [
        "from sklearn.model_selection import train_test_split\n",
        "x_train,x_test,y_train,y_test=train_test_split(X,Y,test_size=0.2,random_state=42, shuffle = True)"
      ],
      "metadata": {
        "id": "ixWlqoHwMa6R"
      },
      "execution_count": null,
      "outputs": []
    },
    {
      "cell_type": "code",
      "source": [
        "x_train.info()"
      ],
      "metadata": {
        "id": "cfx20dtAO0ON"
      },
      "execution_count": null,
      "outputs": []
    },
    {
      "cell_type": "markdown",
      "source": [
        "# Logistic Regression\n"
      ],
      "metadata": {
        "id": "c6aF4IBy4rOI"
      }
    },
    {
      "cell_type": "code",
      "source": [
        "from sklearn.linear_model import LogisticRegression\n",
        "logistic_regression= LogisticRegression()\n",
        "logistic_regression.fit(x_train,y_train)"
      ],
      "metadata": {
        "colab": {
          "base_uri": "https://localhost:8080/"
        },
        "id": "VANZYfp5MgiA",
        "outputId": "b2b6195d-44ce-4e94-a3b5-1e73f3b673c8"
      },
      "execution_count": null,
      "outputs": [
        {
          "output_type": "execute_result",
          "data": {
            "text/plain": [
              "LogisticRegression()"
            ]
          },
          "metadata": {},
          "execution_count": 61
        }
      ]
    },
    {
      "cell_type": "code",
      "source": [
        "from sklearn.metrics import accuracy_score\n",
        "\n",
        "y_predc =logistic_regression.predict(x_test)\n",
        "print(accuracy_score(y_test, y_predc))\n"
      ],
      "metadata": {
        "colab": {
          "base_uri": "https://localhost:8080/"
        },
        "id": "xC449vWIPzHk",
        "outputId": "6715647a-50d0-4204-bbf2-a0013c8ad1e5"
      },
      "execution_count": null,
      "outputs": [
        {
          "output_type": "stream",
          "name": "stdout",
          "text": [
            "0.54\n"
          ]
        }
      ]
    },
    {
      "cell_type": "markdown",
      "source": [
        "## Random Forest"
      ],
      "metadata": {
        "id": "Ck6ePsBW4zVr"
      }
    },
    {
      "cell_type": "code",
      "source": [
        "from sklearn.ensemble import RandomForestRegressor\n",
        "from sklearn.metrics import accuracy_score\n",
        "\n",
        "forest_model = RandomForestRegressor(n_estimators=1000, random_state=1)\n",
        "forest_model.fit(x_train, y_train)\n",
        "melb_preds = forest_model.predict(x_test)\n",
        "melb_preds = [ 1 if y>=0.5 else 0 for y in melb_preds ]\n",
        "print(accuracy_score(y_test, melb_preds))\n"
      ],
      "metadata": {
        "colab": {
          "base_uri": "https://localhost:8080/"
        },
        "id": "_OYPO7fnVKmz",
        "outputId": "63d7e35a-96c0-4e2c-fa41-388148d0d2bb"
      },
      "execution_count": null,
      "outputs": [
        {
          "output_type": "stream",
          "name": "stdout",
          "text": [
            "0.5125\n"
          ]
        }
      ]
    },
    {
      "cell_type": "markdown",
      "source": [
        "# Neural Network"
      ],
      "metadata": {
        "id": "RUDA07qK47-6"
      }
    },
    {
      "cell_type": "code",
      "source": [
        "from keras.models import Sequential\n",
        "from keras.layers import Dense\n",
        "\n",
        "classifier = Sequential() # Initialising the ANN\n",
        "\n",
        "classifier.add(Dense(units = 16, activation = 'relu', input_dim = 8))\n",
        "classifier.add(Dense(units = 8, activation = 'relu'))\n",
        "classifier.add(Dense(units = 6, activation = 'relu'))\n",
        "classifier.add(Dense(units = 1, activation = 'sigmoid'))"
      ],
      "metadata": {
        "id": "ohCyX6j7ml7k"
      },
      "execution_count": null,
      "outputs": []
    },
    {
      "cell_type": "code",
      "source": [
        "classifier.compile(optimizer = 'rmsprop', loss = 'binary_crossentropy')\n",
        "classifier.fit(x_train, y_train, batch_size = 1, epochs = 100)"
      ],
      "metadata": {
        "colab": {
          "base_uri": "https://localhost:8080/"
        },
        "id": "C8RuyNehnOM2",
        "outputId": "5f92c9cb-1b25-4d78-d751-09c0b9ae11b8"
      },
      "execution_count": null,
      "outputs": [
        {
          "output_type": "stream",
          "name": "stdout",
          "text": [
            "Epoch 1/100\n",
            "8000/8000 [==============================] - 24s 3ms/step - loss: 0.6936\n",
            "Epoch 2/100\n",
            "8000/8000 [==============================] - 13s 2ms/step - loss: 0.6909\n",
            "Epoch 3/100\n",
            "8000/8000 [==============================] - 13s 2ms/step - loss: 0.6919\n",
            "Epoch 4/100\n",
            "8000/8000 [==============================] - 13s 2ms/step - loss: 0.6919\n",
            "Epoch 5/100\n",
            "8000/8000 [==============================] - 13s 2ms/step - loss: 0.6920\n",
            "Epoch 6/100\n",
            "8000/8000 [==============================] - 13s 2ms/step - loss: 0.6931\n",
            "Epoch 7/100\n",
            "8000/8000 [==============================] - 13s 2ms/step - loss: 0.6949\n",
            "Epoch 8/100\n",
            "8000/8000 [==============================] - 13s 2ms/step - loss: 0.6937\n",
            "Epoch 9/100\n",
            "8000/8000 [==============================] - 13s 2ms/step - loss: 0.6937\n",
            "Epoch 10/100\n",
            "8000/8000 [==============================] - 13s 2ms/step - loss: 0.6929\n",
            "Epoch 11/100\n",
            "8000/8000 [==============================] - 13s 2ms/step - loss: 0.6955\n",
            "Epoch 12/100\n",
            "8000/8000 [==============================] - 13s 2ms/step - loss: 0.6963\n",
            "Epoch 13/100\n",
            "8000/8000 [==============================] - 14s 2ms/step - loss: 0.6970\n",
            "Epoch 14/100\n",
            "8000/8000 [==============================] - 13s 2ms/step - loss: 0.6992\n",
            "Epoch 15/100\n",
            "8000/8000 [==============================] - 13s 2ms/step - loss: 0.6967\n",
            "Epoch 16/100\n",
            "8000/8000 [==============================] - 14s 2ms/step - loss: 0.6987\n",
            "Epoch 17/100\n",
            "8000/8000 [==============================] - 13s 2ms/step - loss: 0.6984\n",
            "Epoch 18/100\n",
            "8000/8000 [==============================] - 13s 2ms/step - loss: 0.7010\n",
            "Epoch 19/100\n",
            "8000/8000 [==============================] - 13s 2ms/step - loss: 0.6994\n",
            "Epoch 20/100\n",
            "8000/8000 [==============================] - 13s 2ms/step - loss: 0.7000\n",
            "Epoch 21/100\n",
            "8000/8000 [==============================] - 13s 2ms/step - loss: 0.7028\n",
            "Epoch 22/100\n",
            "8000/8000 [==============================] - 13s 2ms/step - loss: 0.7020\n",
            "Epoch 23/100\n",
            "8000/8000 [==============================] - 13s 2ms/step - loss: 0.7019\n",
            "Epoch 24/100\n",
            "8000/8000 [==============================] - 13s 2ms/step - loss: 0.7045\n",
            "Epoch 25/100\n",
            "8000/8000 [==============================] - 13s 2ms/step - loss: 0.7066\n",
            "Epoch 26/100\n",
            "8000/8000 [==============================] - 13s 2ms/step - loss: 0.7081\n",
            "Epoch 27/100\n",
            "8000/8000 [==============================] - 13s 2ms/step - loss: 0.7019\n",
            "Epoch 28/100\n",
            "8000/8000 [==============================] - 13s 2ms/step - loss: 0.7018\n",
            "Epoch 29/100\n",
            "8000/8000 [==============================] - 13s 2ms/step - loss: 0.7053\n",
            "Epoch 30/100\n",
            "8000/8000 [==============================] - 13s 2ms/step - loss: 0.7068\n",
            "Epoch 31/100\n",
            "8000/8000 [==============================] - 13s 2ms/step - loss: 0.7111\n",
            "Epoch 32/100\n",
            "8000/8000 [==============================] - 13s 2ms/step - loss: 0.7117\n",
            "Epoch 33/100\n",
            "8000/8000 [==============================] - 13s 2ms/step - loss: 0.7034\n",
            "Epoch 34/100\n",
            "8000/8000 [==============================] - 13s 2ms/step - loss: 0.7045\n",
            "Epoch 35/100\n",
            "8000/8000 [==============================] - 13s 2ms/step - loss: 0.7038\n",
            "Epoch 36/100\n",
            "8000/8000 [==============================] - 13s 2ms/step - loss: 0.7019\n",
            "Epoch 37/100\n",
            "8000/8000 [==============================] - 13s 2ms/step - loss: 0.7067\n",
            "Epoch 38/100\n",
            "8000/8000 [==============================] - 13s 2ms/step - loss: 0.7063\n",
            "Epoch 39/100\n",
            "8000/8000 [==============================] - 13s 2ms/step - loss: 0.7094\n",
            "Epoch 40/100\n",
            "8000/8000 [==============================] - 13s 2ms/step - loss: 0.7070\n",
            "Epoch 41/100\n",
            "8000/8000 [==============================] - 13s 2ms/step - loss: 0.7053\n",
            "Epoch 42/100\n",
            "8000/8000 [==============================] - 13s 2ms/step - loss: 0.7110\n",
            "Epoch 43/100\n",
            "8000/8000 [==============================] - 13s 2ms/step - loss: 0.7185\n",
            "Epoch 44/100\n",
            "8000/8000 [==============================] - 13s 2ms/step - loss: 0.7141\n",
            "Epoch 45/100\n",
            "8000/8000 [==============================] - 13s 2ms/step - loss: 0.7224\n",
            "Epoch 46/100\n",
            "8000/8000 [==============================] - 13s 2ms/step - loss: 0.7142\n",
            "Epoch 47/100\n",
            "8000/8000 [==============================] - 13s 2ms/step - loss: 0.7171\n",
            "Epoch 48/100\n",
            "8000/8000 [==============================] - 13s 2ms/step - loss: 0.7097\n",
            "Epoch 49/100\n",
            "8000/8000 [==============================] - 13s 2ms/step - loss: 0.7162\n",
            "Epoch 50/100\n",
            "8000/8000 [==============================] - 13s 2ms/step - loss: 0.7097\n",
            "Epoch 51/100\n",
            "8000/8000 [==============================] - 13s 2ms/step - loss: 0.7168\n",
            "Epoch 52/100\n",
            "8000/8000 [==============================] - 13s 2ms/step - loss: 0.7120\n",
            "Epoch 53/100\n",
            "8000/8000 [==============================] - 13s 2ms/step - loss: 0.7162\n",
            "Epoch 54/100\n",
            "8000/8000 [==============================] - 13s 2ms/step - loss: 0.7194\n",
            "Epoch 55/100\n",
            "8000/8000 [==============================] - 13s 2ms/step - loss: 0.7143\n",
            "Epoch 56/100\n",
            "8000/8000 [==============================] - 13s 2ms/step - loss: 0.7243\n",
            "Epoch 57/100\n",
            "8000/8000 [==============================] - 13s 2ms/step - loss: 0.7129\n",
            "Epoch 58/100\n",
            "8000/8000 [==============================] - 13s 2ms/step - loss: 0.7172\n",
            "Epoch 59/100\n",
            "8000/8000 [==============================] - 13s 2ms/step - loss: 0.7281\n",
            "Epoch 60/100\n",
            "8000/8000 [==============================] - 13s 2ms/step - loss: 0.7149\n",
            "Epoch 61/100\n",
            "8000/8000 [==============================] - 13s 2ms/step - loss: 0.7206\n",
            "Epoch 62/100\n",
            "8000/8000 [==============================] - 13s 2ms/step - loss: 0.7205\n",
            "Epoch 63/100\n",
            "8000/8000 [==============================] - 13s 2ms/step - loss: 0.7113\n",
            "Epoch 64/100\n",
            "8000/8000 [==============================] - 13s 2ms/step - loss: 0.7129\n",
            "Epoch 65/100\n",
            "8000/8000 [==============================] - 13s 2ms/step - loss: 0.7184\n",
            "Epoch 66/100\n",
            "8000/8000 [==============================] - 13s 2ms/step - loss: 0.7224\n",
            "Epoch 67/100\n",
            "8000/8000 [==============================] - 13s 2ms/step - loss: 0.7128\n",
            "Epoch 68/100\n",
            "8000/8000 [==============================] - 13s 2ms/step - loss: 0.7199\n",
            "Epoch 69/100\n",
            "8000/8000 [==============================] - 13s 2ms/step - loss: 0.7163\n",
            "Epoch 70/100\n",
            "8000/8000 [==============================] - 13s 2ms/step - loss: 0.7231\n",
            "Epoch 71/100\n",
            "8000/8000 [==============================] - 13s 2ms/step - loss: 0.7228\n",
            "Epoch 72/100\n",
            "8000/8000 [==============================] - 13s 2ms/step - loss: 0.7144\n",
            "Epoch 73/100\n",
            "8000/8000 [==============================] - 13s 2ms/step - loss: 0.7225\n",
            "Epoch 74/100\n",
            "8000/8000 [==============================] - 13s 2ms/step - loss: 0.7152\n",
            "Epoch 75/100\n",
            "8000/8000 [==============================] - 13s 2ms/step - loss: 0.7165\n",
            "Epoch 76/100\n",
            "8000/8000 [==============================] - 13s 2ms/step - loss: 0.7185\n",
            "Epoch 77/100\n",
            "8000/8000 [==============================] - 13s 2ms/step - loss: 0.7210\n",
            "Epoch 78/100\n",
            "8000/8000 [==============================] - 13s 2ms/step - loss: 0.7107\n",
            "Epoch 79/100\n",
            "8000/8000 [==============================] - 13s 2ms/step - loss: 0.7237\n",
            "Epoch 80/100\n",
            "8000/8000 [==============================] - 13s 2ms/step - loss: 0.7094\n",
            "Epoch 81/100\n",
            "8000/8000 [==============================] - 13s 2ms/step - loss: 0.7194\n",
            "Epoch 82/100\n",
            "8000/8000 [==============================] - 13s 2ms/step - loss: 0.7206\n",
            "Epoch 83/100\n",
            "8000/8000 [==============================] - 13s 2ms/step - loss: 0.7195\n",
            "Epoch 84/100\n",
            "8000/8000 [==============================] - 13s 2ms/step - loss: 0.7212\n",
            "Epoch 85/100\n",
            "8000/8000 [==============================] - 13s 2ms/step - loss: 0.7162\n",
            "Epoch 86/100\n",
            "8000/8000 [==============================] - 13s 2ms/step - loss: 0.7170\n",
            "Epoch 87/100\n",
            "8000/8000 [==============================] - 13s 2ms/step - loss: 0.7185\n",
            "Epoch 88/100\n",
            "8000/8000 [==============================] - 13s 2ms/step - loss: 0.7222\n",
            "Epoch 89/100\n",
            "8000/8000 [==============================] - 13s 2ms/step - loss: 0.7172\n",
            "Epoch 90/100\n",
            "8000/8000 [==============================] - 13s 2ms/step - loss: 0.7173\n",
            "Epoch 91/100\n",
            "8000/8000 [==============================] - 13s 2ms/step - loss: 0.7163\n",
            "Epoch 92/100\n",
            "8000/8000 [==============================] - 13s 2ms/step - loss: 0.7108\n",
            "Epoch 93/100\n",
            "8000/8000 [==============================] - 13s 2ms/step - loss: 0.7174\n",
            "Epoch 94/100\n",
            "8000/8000 [==============================] - 13s 2ms/step - loss: 0.7247\n",
            "Epoch 95/100\n",
            "8000/8000 [==============================] - 13s 2ms/step - loss: 0.7192\n",
            "Epoch 96/100\n",
            "8000/8000 [==============================] - 13s 2ms/step - loss: 0.7103\n",
            "Epoch 97/100\n",
            "8000/8000 [==============================] - 13s 2ms/step - loss: 0.7144\n",
            "Epoch 98/100\n",
            "8000/8000 [==============================] - 13s 2ms/step - loss: 0.7205\n",
            "Epoch 99/100\n",
            "8000/8000 [==============================] - 13s 2ms/step - loss: 0.7177\n",
            "Epoch 100/100\n",
            "8000/8000 [==============================] - 13s 2ms/step - loss: 0.7183\n"
          ]
        },
        {
          "output_type": "execute_result",
          "data": {
            "text/plain": [
              "<keras.callbacks.History at 0x7f35dd017890>"
            ]
          },
          "metadata": {},
          "execution_count": 55
        }
      ]
    },
    {
      "cell_type": "code",
      "source": [
        "y_pred = classifier.predict(x_test)\n",
        "y_pred = [ 1 if y>=0.5 else 0 for y in y_pred ]"
      ],
      "metadata": {
        "id": "D9rMweTAyHWX"
      },
      "execution_count": null,
      "outputs": []
    },
    {
      "cell_type": "code",
      "source": [
        "print(accuracy_score(y_test, y_pred))"
      ],
      "metadata": {
        "colab": {
          "base_uri": "https://localhost:8080/"
        },
        "id": "t-SxnzeEyQUr",
        "outputId": "023fb8e6-aa81-438f-a934-8960e6db767b"
      },
      "execution_count": null,
      "outputs": [
        {
          "output_type": "stream",
          "name": "stdout",
          "text": [
            "0.5335\n"
          ]
        }
      ]
    },
    {
      "cell_type": "markdown",
      "source": [
        "# Best accuracy is by Logistic Regression Model i,e of 54%"
      ],
      "metadata": {
        "id": "i4kPPkPi5ChW"
      }
    },
    {
      "cell_type": "code",
      "source": [
        "y_predicted =logistic_regression.predict(df2)\n",
        "y_predicted = pd.DataFrame(y_predicted)\n",
        "print(y_predicted)"
      ],
      "metadata": {
        "colab": {
          "base_uri": "https://localhost:8080/"
        },
        "id": "BiwMGsrU9-Hi",
        "outputId": "cd277f08-7ee0-4dc3-9702-f50994f697e6"
      },
      "execution_count": null,
      "outputs": [
        {
          "output_type": "stream",
          "name": "stdout",
          "text": [
            "     0\n",
            "0    0\n",
            "1    1\n",
            "2    0\n",
            "3    1\n",
            "4    1\n",
            "..  ..\n",
            "995  1\n",
            "996  0\n",
            "997  0\n",
            "998  0\n",
            "999  0\n",
            "\n",
            "[1000 rows x 1 columns]\n"
          ]
        },
        {
          "output_type": "stream",
          "name": "stderr",
          "text": [
            "/usr/local/lib/python3.7/dist-packages/sklearn/base.py:493: FutureWarning: The feature names should match those that were passed during fit. Starting version 1.2, an error will be raised.\n",
            "Feature names unseen at fit time:\n",
            "- x1\n",
            "- x2\n",
            "- x3\n",
            "- x4\n",
            "Feature names seen at fit time, yet now missing:\n",
            "- x1[O]\n",
            "- x2[high]\n",
            "- x3[low]\n",
            "- x4[C]\n",
            "\n",
            "  warnings.warn(message, FutureWarning)\n"
          ]
        }
      ]
    },
    {
      "cell_type": "code",
      "source": [
        "df2.head()"
      ],
      "metadata": {
        "colab": {
          "base_uri": "https://localhost:8080/",
          "height": 206
        },
        "id": "OW9vQeg0-4Zn",
        "outputId": "fcc9a3b0-05e5-4419-94c6-7e6a3ecf5ca2"
      },
      "execution_count": null,
      "outputs": [
        {
          "output_type": "execute_result",
          "data": {
            "text/html": [
              "\n",
              "  <div id=\"df-7d5a4978-6880-4b4b-b9b9-665446cad289\">\n",
              "    <div class=\"colab-df-container\">\n",
              "      <div>\n",
              "<style scoped>\n",
              "    .dataframe tbody tr th:only-of-type {\n",
              "        vertical-align: middle;\n",
              "    }\n",
              "\n",
              "    .dataframe tbody tr th {\n",
              "        vertical-align: top;\n",
              "    }\n",
              "\n",
              "    .dataframe thead th {\n",
              "        text-align: right;\n",
              "    }\n",
              "</style>\n",
              "<table border=\"1\" class=\"dataframe\">\n",
              "  <thead>\n",
              "    <tr style=\"text-align: right;\">\n",
              "      <th></th>\n",
              "      <th>x1</th>\n",
              "      <th>x2</th>\n",
              "      <th>x3</th>\n",
              "      <th>x4</th>\n",
              "      <th>O-C</th>\n",
              "      <th>H-O</th>\n",
              "      <th>L-C</th>\n",
              "      <th>H-L</th>\n",
              "    </tr>\n",
              "  </thead>\n",
              "  <tbody>\n",
              "    <tr>\n",
              "      <th>0</th>\n",
              "      <td>0.447888</td>\n",
              "      <td>0.428929</td>\n",
              "      <td>0.446339</td>\n",
              "      <td>0.420274</td>\n",
              "      <td>0.454142</td>\n",
              "      <td>-0.623013</td>\n",
              "      <td>-0.881009</td>\n",
              "      <td>-0.455856</td>\n",
              "    </tr>\n",
              "    <tr>\n",
              "      <th>1</th>\n",
              "      <td>0.420490</td>\n",
              "      <td>0.425188</td>\n",
              "      <td>0.448815</td>\n",
              "      <td>0.443252</td>\n",
              "      <td>-0.410504</td>\n",
              "      <td>0.129155</td>\n",
              "      <td>-0.225954</td>\n",
              "      <td>-0.592693</td>\n",
              "    </tr>\n",
              "    <tr>\n",
              "      <th>2</th>\n",
              "      <td>0.437925</td>\n",
              "      <td>0.442649</td>\n",
              "      <td>0.458099</td>\n",
              "      <td>0.427726</td>\n",
              "      <td>0.155252</td>\n",
              "      <td>0.129155</td>\n",
              "      <td>-1.019961</td>\n",
              "      <td>-0.414805</td>\n",
              "    </tr>\n",
              "    <tr>\n",
              "      <th>3</th>\n",
              "      <td>0.426094</td>\n",
              "      <td>0.402114</td>\n",
              "      <td>0.411678</td>\n",
              "      <td>0.414063</td>\n",
              "      <td>0.187276</td>\n",
              "      <td>-0.781365</td>\n",
              "      <td>0.032098</td>\n",
              "      <td>-0.277969</td>\n",
              "    </tr>\n",
              "    <tr>\n",
              "      <th>4</th>\n",
              "      <td>0.403055</td>\n",
              "      <td>0.425188</td>\n",
              "      <td>0.430866</td>\n",
              "      <td>0.456914</td>\n",
              "      <td>-0.944236</td>\n",
              "      <td>0.683385</td>\n",
              "      <td>0.786404</td>\n",
              "      <td>-0.195867</td>\n",
              "    </tr>\n",
              "  </tbody>\n",
              "</table>\n",
              "</div>\n",
              "      <button class=\"colab-df-convert\" onclick=\"convertToInteractive('df-7d5a4978-6880-4b4b-b9b9-665446cad289')\"\n",
              "              title=\"Convert this dataframe to an interactive table.\"\n",
              "              style=\"display:none;\">\n",
              "        \n",
              "  <svg xmlns=\"http://www.w3.org/2000/svg\" height=\"24px\"viewBox=\"0 0 24 24\"\n",
              "       width=\"24px\">\n",
              "    <path d=\"M0 0h24v24H0V0z\" fill=\"none\"/>\n",
              "    <path d=\"M18.56 5.44l.94 2.06.94-2.06 2.06-.94-2.06-.94-.94-2.06-.94 2.06-2.06.94zm-11 1L8.5 8.5l.94-2.06 2.06-.94-2.06-.94L8.5 2.5l-.94 2.06-2.06.94zm10 10l.94 2.06.94-2.06 2.06-.94-2.06-.94-.94-2.06-.94 2.06-2.06.94z\"/><path d=\"M17.41 7.96l-1.37-1.37c-.4-.4-.92-.59-1.43-.59-.52 0-1.04.2-1.43.59L10.3 9.45l-7.72 7.72c-.78.78-.78 2.05 0 2.83L4 21.41c.39.39.9.59 1.41.59.51 0 1.02-.2 1.41-.59l7.78-7.78 2.81-2.81c.8-.78.8-2.07 0-2.86zM5.41 20L4 18.59l7.72-7.72 1.47 1.35L5.41 20z\"/>\n",
              "  </svg>\n",
              "      </button>\n",
              "      \n",
              "  <style>\n",
              "    .colab-df-container {\n",
              "      display:flex;\n",
              "      flex-wrap:wrap;\n",
              "      gap: 12px;\n",
              "    }\n",
              "\n",
              "    .colab-df-convert {\n",
              "      background-color: #E8F0FE;\n",
              "      border: none;\n",
              "      border-radius: 50%;\n",
              "      cursor: pointer;\n",
              "      display: none;\n",
              "      fill: #1967D2;\n",
              "      height: 32px;\n",
              "      padding: 0 0 0 0;\n",
              "      width: 32px;\n",
              "    }\n",
              "\n",
              "    .colab-df-convert:hover {\n",
              "      background-color: #E2EBFA;\n",
              "      box-shadow: 0px 1px 2px rgba(60, 64, 67, 0.3), 0px 1px 3px 1px rgba(60, 64, 67, 0.15);\n",
              "      fill: #174EA6;\n",
              "    }\n",
              "\n",
              "    [theme=dark] .colab-df-convert {\n",
              "      background-color: #3B4455;\n",
              "      fill: #D2E3FC;\n",
              "    }\n",
              "\n",
              "    [theme=dark] .colab-df-convert:hover {\n",
              "      background-color: #434B5C;\n",
              "      box-shadow: 0px 1px 3px 1px rgba(0, 0, 0, 0.15);\n",
              "      filter: drop-shadow(0px 1px 2px rgba(0, 0, 0, 0.3));\n",
              "      fill: #FFFFFF;\n",
              "    }\n",
              "  </style>\n",
              "\n",
              "      <script>\n",
              "        const buttonEl =\n",
              "          document.querySelector('#df-7d5a4978-6880-4b4b-b9b9-665446cad289 button.colab-df-convert');\n",
              "        buttonEl.style.display =\n",
              "          google.colab.kernel.accessAllowed ? 'block' : 'none';\n",
              "\n",
              "        async function convertToInteractive(key) {\n",
              "          const element = document.querySelector('#df-7d5a4978-6880-4b4b-b9b9-665446cad289');\n",
              "          const dataTable =\n",
              "            await google.colab.kernel.invokeFunction('convertToInteractive',\n",
              "                                                     [key], {});\n",
              "          if (!dataTable) return;\n",
              "\n",
              "          const docLinkHtml = 'Like what you see? Visit the ' +\n",
              "            '<a target=\"_blank\" href=https://colab.research.google.com/notebooks/data_table.ipynb>data table notebook</a>'\n",
              "            + ' to learn more about interactive tables.';\n",
              "          element.innerHTML = '';\n",
              "          dataTable['output_type'] = 'display_data';\n",
              "          await google.colab.output.renderOutput(dataTable, element);\n",
              "          const docLink = document.createElement('div');\n",
              "          docLink.innerHTML = docLinkHtml;\n",
              "          element.appendChild(docLink);\n",
              "        }\n",
              "      </script>\n",
              "    </div>\n",
              "  </div>\n",
              "  "
            ],
            "text/plain": [
              "         x1        x2        x3  ...       H-O       L-C       H-L\n",
              "0  0.447888  0.428929  0.446339  ... -0.623013 -0.881009 -0.455856\n",
              "1  0.420490  0.425188  0.448815  ...  0.129155 -0.225954 -0.592693\n",
              "2  0.437925  0.442649  0.458099  ...  0.129155 -1.019961 -0.414805\n",
              "3  0.426094  0.402114  0.411678  ... -0.781365  0.032098 -0.277969\n",
              "4  0.403055  0.425188  0.430866  ...  0.683385  0.786404 -0.195867\n",
              "\n",
              "[5 rows x 8 columns]"
            ]
          },
          "metadata": {},
          "execution_count": 95
        }
      ]
    },
    {
      "cell_type": "code",
      "source": [
        "X.head()"
      ],
      "metadata": {
        "colab": {
          "base_uri": "https://localhost:8080/",
          "height": 206
        },
        "id": "dsOMtUGK-4fG",
        "outputId": "dadb750a-3ae4-45af-b22e-a7167d0e4044"
      },
      "execution_count": null,
      "outputs": [
        {
          "output_type": "execute_result",
          "data": {
            "text/html": [
              "\n",
              "  <div id=\"df-53167486-e6df-40cb-938b-7a4eb67f8545\">\n",
              "    <div class=\"colab-df-container\">\n",
              "      <div>\n",
              "<style scoped>\n",
              "    .dataframe tbody tr th:only-of-type {\n",
              "        vertical-align: middle;\n",
              "    }\n",
              "\n",
              "    .dataframe tbody tr th {\n",
              "        vertical-align: top;\n",
              "    }\n",
              "\n",
              "    .dataframe thead th {\n",
              "        text-align: right;\n",
              "    }\n",
              "</style>\n",
              "<table border=\"1\" class=\"dataframe\">\n",
              "  <thead>\n",
              "    <tr style=\"text-align: right;\">\n",
              "      <th></th>\n",
              "      <th>x1[O]</th>\n",
              "      <th>x2[high]</th>\n",
              "      <th>x3[low]</th>\n",
              "      <th>x4[C]</th>\n",
              "      <th>O-C</th>\n",
              "      <th>H-O</th>\n",
              "      <th>L-C</th>\n",
              "      <th>H-L</th>\n",
              "    </tr>\n",
              "  </thead>\n",
              "  <tbody>\n",
              "    <tr>\n",
              "      <th>0</th>\n",
              "      <td>0.021087</td>\n",
              "      <td>0.017511</td>\n",
              "      <td>0.024754</td>\n",
              "      <td>0.023417</td>\n",
              "      <td>-0.124462</td>\n",
              "      <td>-0.313317</td>\n",
              "      <td>-0.116595</td>\n",
              "      <td>-0.479182</td>\n",
              "    </tr>\n",
              "    <tr>\n",
              "      <th>1</th>\n",
              "      <td>0.020658</td>\n",
              "      <td>0.013503</td>\n",
              "      <td>0.016316</td>\n",
              "      <td>0.021557</td>\n",
              "      <td>-0.048027</td>\n",
              "      <td>-0.626253</td>\n",
              "      <td>0.452161</td>\n",
              "      <td>-0.186443</td>\n",
              "    </tr>\n",
              "    <tr>\n",
              "      <th>2</th>\n",
              "      <td>0.023376</td>\n",
              "      <td>0.013503</td>\n",
              "      <td>-0.007854</td>\n",
              "      <td>-0.017363</td>\n",
              "      <td>2.176241</td>\n",
              "      <td>-0.864085</td>\n",
              "      <td>-0.821358</td>\n",
              "      <td>1.409455</td>\n",
              "    </tr>\n",
              "    <tr>\n",
              "      <th>3</th>\n",
              "      <td>-0.014685</td>\n",
              "      <td>-0.024569</td>\n",
              "      <td>-0.028448</td>\n",
              "      <td>-0.022228</td>\n",
              "      <td>0.402942</td>\n",
              "      <td>-0.864085</td>\n",
              "      <td>0.538711</td>\n",
              "      <td>0.257386</td>\n",
              "    </tr>\n",
              "    <tr>\n",
              "      <th>4</th>\n",
              "      <td>-0.023699</td>\n",
              "      <td>-0.018272</td>\n",
              "      <td>-0.014146</td>\n",
              "      <td>-0.013357</td>\n",
              "      <td>-0.552500</td>\n",
              "      <td>0.475283</td>\n",
              "      <td>0.068869</td>\n",
              "      <td>-0.271432</td>\n",
              "    </tr>\n",
              "  </tbody>\n",
              "</table>\n",
              "</div>\n",
              "      <button class=\"colab-df-convert\" onclick=\"convertToInteractive('df-53167486-e6df-40cb-938b-7a4eb67f8545')\"\n",
              "              title=\"Convert this dataframe to an interactive table.\"\n",
              "              style=\"display:none;\">\n",
              "        \n",
              "  <svg xmlns=\"http://www.w3.org/2000/svg\" height=\"24px\"viewBox=\"0 0 24 24\"\n",
              "       width=\"24px\">\n",
              "    <path d=\"M0 0h24v24H0V0z\" fill=\"none\"/>\n",
              "    <path d=\"M18.56 5.44l.94 2.06.94-2.06 2.06-.94-2.06-.94-.94-2.06-.94 2.06-2.06.94zm-11 1L8.5 8.5l.94-2.06 2.06-.94-2.06-.94L8.5 2.5l-.94 2.06-2.06.94zm10 10l.94 2.06.94-2.06 2.06-.94-2.06-.94-.94-2.06-.94 2.06-2.06.94z\"/><path d=\"M17.41 7.96l-1.37-1.37c-.4-.4-.92-.59-1.43-.59-.52 0-1.04.2-1.43.59L10.3 9.45l-7.72 7.72c-.78.78-.78 2.05 0 2.83L4 21.41c.39.39.9.59 1.41.59.51 0 1.02-.2 1.41-.59l7.78-7.78 2.81-2.81c.8-.78.8-2.07 0-2.86zM5.41 20L4 18.59l7.72-7.72 1.47 1.35L5.41 20z\"/>\n",
              "  </svg>\n",
              "      </button>\n",
              "      \n",
              "  <style>\n",
              "    .colab-df-container {\n",
              "      display:flex;\n",
              "      flex-wrap:wrap;\n",
              "      gap: 12px;\n",
              "    }\n",
              "\n",
              "    .colab-df-convert {\n",
              "      background-color: #E8F0FE;\n",
              "      border: none;\n",
              "      border-radius: 50%;\n",
              "      cursor: pointer;\n",
              "      display: none;\n",
              "      fill: #1967D2;\n",
              "      height: 32px;\n",
              "      padding: 0 0 0 0;\n",
              "      width: 32px;\n",
              "    }\n",
              "\n",
              "    .colab-df-convert:hover {\n",
              "      background-color: #E2EBFA;\n",
              "      box-shadow: 0px 1px 2px rgba(60, 64, 67, 0.3), 0px 1px 3px 1px rgba(60, 64, 67, 0.15);\n",
              "      fill: #174EA6;\n",
              "    }\n",
              "\n",
              "    [theme=dark] .colab-df-convert {\n",
              "      background-color: #3B4455;\n",
              "      fill: #D2E3FC;\n",
              "    }\n",
              "\n",
              "    [theme=dark] .colab-df-convert:hover {\n",
              "      background-color: #434B5C;\n",
              "      box-shadow: 0px 1px 3px 1px rgba(0, 0, 0, 0.15);\n",
              "      filter: drop-shadow(0px 1px 2px rgba(0, 0, 0, 0.3));\n",
              "      fill: #FFFFFF;\n",
              "    }\n",
              "  </style>\n",
              "\n",
              "      <script>\n",
              "        const buttonEl =\n",
              "          document.querySelector('#df-53167486-e6df-40cb-938b-7a4eb67f8545 button.colab-df-convert');\n",
              "        buttonEl.style.display =\n",
              "          google.colab.kernel.accessAllowed ? 'block' : 'none';\n",
              "\n",
              "        async function convertToInteractive(key) {\n",
              "          const element = document.querySelector('#df-53167486-e6df-40cb-938b-7a4eb67f8545');\n",
              "          const dataTable =\n",
              "            await google.colab.kernel.invokeFunction('convertToInteractive',\n",
              "                                                     [key], {});\n",
              "          if (!dataTable) return;\n",
              "\n",
              "          const docLinkHtml = 'Like what you see? Visit the ' +\n",
              "            '<a target=\"_blank\" href=https://colab.research.google.com/notebooks/data_table.ipynb>data table notebook</a>'\n",
              "            + ' to learn more about interactive tables.';\n",
              "          element.innerHTML = '';\n",
              "          dataTable['output_type'] = 'display_data';\n",
              "          await google.colab.output.renderOutput(dataTable, element);\n",
              "          const docLink = document.createElement('div');\n",
              "          docLink.innerHTML = docLinkHtml;\n",
              "          element.appendChild(docLink);\n",
              "        }\n",
              "      </script>\n",
              "    </div>\n",
              "  </div>\n",
              "  "
            ],
            "text/plain": [
              "      x1[O]  x2[high]   x3[low]  ...       H-O       L-C       H-L\n",
              "0  0.021087  0.017511  0.024754  ... -0.313317 -0.116595 -0.479182\n",
              "1  0.020658  0.013503  0.016316  ... -0.626253  0.452161 -0.186443\n",
              "2  0.023376  0.013503 -0.007854  ... -0.864085 -0.821358  1.409455\n",
              "3 -0.014685 -0.024569 -0.028448  ... -0.864085  0.538711  0.257386\n",
              "4 -0.023699 -0.018272 -0.014146  ...  0.475283  0.068869 -0.271432\n",
              "\n",
              "[5 rows x 8 columns]"
            ]
          },
          "metadata": {},
          "execution_count": 96
        }
      ]
    },
    {
      "cell_type": "code",
      "source": [
        ""
      ],
      "metadata": {
        "id": "GKNHsl7k_MUJ"
      },
      "execution_count": null,
      "outputs": []
    }
  ]
}